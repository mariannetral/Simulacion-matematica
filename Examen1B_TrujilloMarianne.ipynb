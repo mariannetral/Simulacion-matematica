{
 "cells": [
  {
   "cell_type": "markdown",
   "id": "5b872bbb",
   "metadata": {},
   "source": [
    "## Marianne Trujillo Alltamirano\n",
    "### Exp. 740694\n",
    "01/03/2023"
   ]
  },
  {
   "cell_type": "markdown",
   "id": "1e2823cf",
   "metadata": {},
   "source": [
    "# Examen B Módulo 1 - Optimización.\n",
    "\n",
    "**Lea cuidadosamente las siguientes indicaciones antes de comenzar el examen:**\n",
    "- Para resolver el examen edite este mismo archivo y renómbrelo de la siguiente manera: *Examen1_ApellidoNombre*, donde *ApellidoNombre* corresponde a su apellido paterno con la inicial en mayúscula, seguido de su primer nombre con la inicial en mayúscula **sin acentos**. Por ejemplo, en mi caso el nombre del archivo sería *Examen1_MoralesGabriel*.\n",
    "- Resuelva los puntos en el espacio provisto. Si requiere agregar más celdas para código o escritura, hágalo (`Esc`,`B`) o (`Esc`,`A`).\n",
    "- Recuerde que también se está evaluando su capacidad de interpretar los resultados. Escriba sus interpretaciones/conclusiones en celdas utilizando *Markdown*.\n",
    "- El formato de presentación de todo el examen en general debe ser adecuado. Use tamaños de letra, colores, etiquetas, etcétera.\n",
    "- No se resuelven dudas de ningún tipo por los profesores de la asignatura. Por favor, absténgase de preguntar.\n",
    "- Revise bien el tipo de examen. Sólo se le calificará si realiza el tipo de examen asignado."
   ]
  },
  {
   "cell_type": "markdown",
   "id": "53712a36",
   "metadata": {},
   "source": [
    "---\n",
    "# Primer punto. Optimización de funciones con `SymPy` (34 puntos)\n",
    "\n",
    "**Costo mínimo**. Imagine un contenedor rectangular sin tapa que debe satisfacer las siguientes condiciones:\n",
    "\n",
    "- Este contenedor debe tener un volumen **V**.\n",
    "- La longitud de su base es el doble que el de su ancho.\n",
    "- El material para la base cuesta 12.00 MXN por cada $m^2$.\n",
    "- El material para los lados cuesta 6.00 MXN por cada $m^2$.\n",
    "\n",
    "¿Cuál es el costo del contenedor más barato?\n"
   ]
  },
  {
   "cell_type": "markdown",
   "id": "9913d3d8",
   "metadata": {},
   "source": [
    "1. Escriba el costo **C** del contenedor como una función del ancho de la base $x$ y de su altura $h$. Realice este punto usando $\\LaTeX$ y celdas *Markdown*."
   ]
  },
  {
   "cell_type": "markdown",
   "id": "d04a104b",
   "metadata": {},
   "source": [
    "**1.Criterio de optimización**\n",
    "\n",
    "Minimizar el costo del contenedor\n",
    "\n",
    "**2. Variables que afectan mi criterio**\n",
    "\n",
    "Longitudes de la base y la altura del contenedor"
   ]
  },
  {
   "cell_type": "markdown",
   "id": "bac0eb00",
   "metadata": {},
   "source": [
    "**3. Función de costo**\n",
    "$$24x^2+36xh$$"
   ]
  },
  {
   "cell_type": "markdown",
   "id": "ee04a16b",
   "metadata": {},
   "source": [
    "**4. Información adicional**\n",
    "- La longitud de su base es el doble que el de su ancho.\n",
    "- El material para la base cuesta 12.00 MXN por cada $m^2$.\n",
    "- El material para los lados cuesta 6.00 MXN por cada $m^2$."
   ]
  },
  {
   "cell_type": "markdown",
   "id": "a1e58696",
   "metadata": {},
   "source": [
    "2. Determina las dimensiones del contenedor si el volumen debe ser de $12m^3$."
   ]
  },
  {
   "cell_type": "code",
   "execution_count": 1,
   "id": "82e30525",
   "metadata": {},
   "outputs": [
    {
     "data": {
      "text/latex": [
       "$\\displaystyle 2 h x^{2} - 12$"
      ],
      "text/plain": [
       "2*h*x**2 - 12"
      ]
     },
     "execution_count": 1,
     "metadata": {},
     "output_type": "execute_result"
    }
   ],
   "source": [
    "import sympy as sp\n",
    "import numpy as np\n",
    "\n",
    "sp.var (\"x\")\n",
    "sp.var (\"h\")\n",
    "sp.var (\"v\")\n",
    "\n",
    "costo = 24*x**2+36*x*h\n",
    "volumen = 2*x**2*h - 12\n",
    "volumen"
   ]
  },
  {
   "cell_type": "code",
   "execution_count": 3,
   "id": "8b1217dd",
   "metadata": {},
   "outputs": [
    {
     "data": {
      "text/latex": [
       "$\\displaystyle \\sqrt{6} \\sqrt{\\frac{1}{h}}$"
      ],
      "text/plain": [
       "sqrt(6)*sqrt(1/h)"
      ]
     },
     "execution_count": 3,
     "metadata": {},
     "output_type": "execute_result"
    }
   ],
   "source": [
    "x_num = sp.solve(volumen, x)[1]\n",
    "x_num"
   ]
  },
  {
   "cell_type": "code",
   "execution_count": 4,
   "id": "7990dbe3",
   "metadata": {
    "scrolled": true
   },
   "outputs": [
    {
     "data": {
      "text/latex": [
       "$\\displaystyle 36 \\sqrt{6} h \\sqrt{\\frac{1}{h}} + \\frac{144}{h}$"
      ],
      "text/plain": [
       "36*sqrt(6)*h*sqrt(1/h) + 144/h"
      ]
     },
     "execution_count": 4,
     "metadata": {},
     "output_type": "execute_result"
    }
   ],
   "source": [
    "costo_h= costo.subs(x,x_num)\n",
    "costo_h"
   ]
  },
  {
   "cell_type": "code",
   "execution_count": 5,
   "id": "dad12626",
   "metadata": {},
   "outputs": [
    {
     "data": {
      "text/latex": [
       "$\\displaystyle 18 \\sqrt{6} \\sqrt{\\frac{1}{h}} - \\frac{144}{h^{2}}$"
      ],
      "text/plain": [
       "18*sqrt(6)*sqrt(1/h) - 144/h**2"
      ]
     },
     "execution_count": 5,
     "metadata": {},
     "output_type": "execute_result"
    }
   ],
   "source": [
    "dcosto= sp.diff(costo_h,h)\n",
    "dcosto"
   ]
  },
  {
   "cell_type": "code",
   "execution_count": 6,
   "id": "94ec7c44",
   "metadata": {},
   "outputs": [
    {
     "data": {
      "text/plain": [
       "[2*6**(2/3)/3]"
      ]
     },
     "execution_count": 6,
     "metadata": {},
     "output_type": "execute_result"
    }
   ],
   "source": [
    "pc= sp.solve(dcosto,h)\n",
    "pc"
   ]
  },
  {
   "cell_type": "code",
   "execution_count": 7,
   "id": "58f2fbbd",
   "metadata": {},
   "outputs": [
    {
     "data": {
      "text/plain": [
       "20.25"
      ]
     },
     "execution_count": 7,
     "metadata": {},
     "output_type": "execute_result"
    }
   ],
   "source": [
    "float(sp.diff(dcosto,h).subs(h,pc[0])) #ES UN MÍNIMO"
   ]
  },
  {
   "cell_type": "code",
   "execution_count": 8,
   "id": "92711a49",
   "metadata": {},
   "outputs": [
    {
     "data": {
      "text/plain": [
       "1.6509636244473134"
      ]
     },
     "execution_count": 8,
     "metadata": {},
     "output_type": "execute_result"
    }
   ],
   "source": [
    "x_max=float(sp.solve(volumen,x)[1].subs(h,pc[0])) #VALOR DE X \n",
    "x_max"
   ]
  },
  {
   "cell_type": "code",
   "execution_count": 9,
   "id": "d5b69d3e",
   "metadata": {},
   "outputs": [
    {
     "data": {
      "text/plain": [
       "2.2894284851066637"
      ]
     },
     "execution_count": 9,
     "metadata": {},
     "output_type": "execute_result"
    }
   ],
   "source": [
    "2*1.1447142425533319"
   ]
  },
  {
   "cell_type": "code",
   "execution_count": 10,
   "id": "d3e2160b",
   "metadata": {},
   "outputs": [
    {
     "data": {
      "text/plain": [
       "2.201284832596418"
      ]
     },
     "execution_count": 10,
     "metadata": {},
     "output_type": "execute_result"
    }
   ],
   "source": [
    "h_max= float(sp.solve(volumen,h)[0].subs(x,x_max))\n",
    "h_max"
   ]
  },
  {
   "cell_type": "markdown",
   "id": "9427e88f",
   "metadata": {},
   "source": [
    " ### **R:** Las dimensiones del contenedor si el volumen es de $12m^3$, son:\n",
    "- **Longitud de base**= 1.6509636244473134 m\n",
    "- **Ancho de base**= 2.2894284851066637 m\n",
    "- **Alto del contenedor**= 2.201284832596418 m"
   ]
  },
  {
   "cell_type": "markdown",
   "id": "fec1be1e",
   "metadata": {},
   "source": [
    "3. ¿Cuál fue el costo de fabricar este contenedor?"
   ]
  },
  {
   "cell_type": "code",
   "execution_count": 11,
   "id": "0c638fe3",
   "metadata": {},
   "outputs": [
    {
     "data": {
      "text/plain": [
       "196.24902402587108"
      ]
     },
     "execution_count": 11,
     "metadata": {},
     "output_type": "execute_result"
    }
   ],
   "source": [
    "float(costo.subs(x,x_max).subs(h,pc[0]))"
   ]
  },
  {
   "cell_type": "markdown",
   "id": "fa977bce",
   "metadata": {},
   "source": [
    " ### **R:** El costo mínimo es de: 196.24902402587108 MXN"
   ]
  },
  {
   "cell_type": "markdown",
   "id": "85d38de6",
   "metadata": {},
   "source": [
    "### Corrección\n",
    "* ¿Cuál fue el error? Que no contemplé que el contenedor tiene dos lados que su área corresponde a 2xh y otros dos que su área corresponde a xh\n",
    "* ¿Qué se corrigió? La función de costo, pues en lugar de $24x^2+12xh$,  es:  $24x^2+36 xh$\n",
    "* ¿Cómo se puede evitar? Poniendo más atención a la hora de plantear mi s ecuaciones de acuerdo alos datos que me da el problema"
   ]
  },
  {
   "cell_type": "markdown",
   "id": "4eeff9c8",
   "metadata": {},
   "source": [
    "---\n",
    "# Segundo punto. Programación lineal (33 puntos)"
   ]
  },
  {
   "cell_type": "markdown",
   "id": "8013ca31",
   "metadata": {},
   "source": [
    "Una empresa se dedica a fabricar tarjetas de control para automóviles, y están en su momento de planeación de compras anuales. Hay 3 proveedores que pueden proveer los componentes, cada uno a su propio precio."
   ]
  },
  {
   "cell_type": "markdown",
   "id": "f41253d2",
   "metadata": {},
   "source": [
    "<table>\n",
    "  <tr>\n",
    "      <th>  </th>\n",
    "      <th>Proveedor 1</th>\n",
    "      <th>Proveedor 2</th>\n",
    "      <th>Proveedor 3</th>\n",
    "      <th>Demanda</th>\n",
    "  </tr>\n",
    "  <tr>\n",
    "      <th>Componente 1</th>\n",
    "      <td>0.5</td>\n",
    "      <td>0.6</td>\n",
    "      <td>0.7</td>\n",
    "      <td>15000</td>\n",
    "  </tr>\n",
    "  <tr style=\"border-bottom: 1px solid #000;\">\n",
    "      <th>Componente 2</th>\n",
    "      <td>0.7</td>\n",
    "      <td>0.5</td>\n",
    "      <td>0.6</td>\n",
    "      <td>20000</td>\n",
    "  </tr>\n",
    "  <tr style=\"border-bottom: 1px solid #000;\">\n",
    "      <th>Componente 3</th>\n",
    "      <td>0.32</td>\n",
    "      <td>0.54</td>\n",
    "      <td>0.8</td>\n",
    "      <td>12000</td>\n",
    "  </tr>\n",
    "\n",
    "  <tr style=\"border-bottom: 1px solid #000;\">\n",
    "      <th>Capacidad</th>\n",
    "      <td> 21000 </td>\n",
    "      <td> 16000 </td>\n",
    "      <td> 16000 </td>\n",
    "      <td>  </td>\n",
    "  </tr>\n",
    "</table>"
   ]
  },
  {
   "cell_type": "markdown",
   "id": "48d6c967",
   "metadata": {},
   "source": [
    "El proveedor tiene restricciones de capacidad de fabricación del tipo de componentes, por lo que un proveedor no puede satisfacer nuestra demanda completa para cada componente."
   ]
  },
  {
   "cell_type": "markdown",
   "id": "85e307ae",
   "metadata": {},
   "source": [
    "Se desea conocer la cantidad que se debe comprar de cada componente a cada proveedor para gastar la menor cantidad de dinero posible, pero al mismo tiempo lograr satisfacer la demanda para poder continuar con la manufactura del producto."
   ]
  },
  {
   "cell_type": "markdown",
   "id": "df55a736",
   "metadata": {},
   "source": [
    "1. Escriba la función a **minimizar** junto con las restricciones, explicando detalladamente cada paso (usando fórmulas en $\\LaTeX$, en celdas Markdown). Además escriba el problema en la forma \\begin{equation}\n",
    "\\begin{array}{ll}\n",
    "\\min_{\\boldsymbol{x}} & \\boldsymbol{c}^T\\boldsymbol{x} \\\\\n",
    "\\text{s. a. }        & \\boldsymbol{A}_{eq}\\boldsymbol{x}=\\boldsymbol{b}_{eq} \\\\\n",
    "                     & \\boldsymbol{A}\\boldsymbol{x}\\leq\\boldsymbol{b},\n",
    "\\end{array}\\qquad\\text{(23 puntos)}\n",
    "\\end{equation}"
   ]
  },
  {
   "cell_type": "markdown",
   "id": "04ce36d6",
   "metadata": {},
   "source": [
    "**1.Criterio de optimización**\n",
    "\n",
    "Minimizar el costo de satisfacer la demanda y producción\n",
    "\n",
    "**2. Variables que afectan mi criterio**\n",
    "\n",
    "Capacidad de oferta y demanda de cada proveedor"
   ]
  },
  {
   "cell_type": "markdown",
   "id": "d4c96539",
   "metadata": {},
   "source": [
    "**3. Función de costo**\n",
    "$$\\min_{x_1,\\dots,x_6}0.5x_{p1c1} + 0.7x_{p1c2} + 0.32x_{p1c3} + 0.6x_{p2c1} + 0.5x_{p2c2} + 0.54x_{p2c3}+ 0.7x_{p3c1} + 0.6x_{p3c2} + 0.8x_{p3c3}$$"
   ]
  },
  {
   "cell_type": "markdown",
   "id": "4f8863ce",
   "metadata": {},
   "source": [
    "**4. Información adicional: Restricciones**\n",
    "\n",
    "- $x_{p1c1} + x_{p1c2} + x_{p1c3} \\leq 21000$\n",
    "- $x_{p2c1} + x_{p2c2} + x_{p2c3} \\leq 16000$\n",
    "- $x_{p3c1} + x_{p3c2} + x_{p3c3} \\leq 16000$\n",
    "\n",
    "\n",
    "- $x_{p1c1} + x_{p2c1} + x_{p3c1} \\geq 15000$\n",
    "- $x_{p1c2} + x_{p2c2} + x_{p3c2} \\geq 20000$\n",
    "- $x_{p1c3} + x_{p2c3} + x_{p3c3} \\geq 12000$"
   ]
  },
  {
   "cell_type": "markdown",
   "id": "6c1e3c9a",
   "metadata": {},
   "source": [
    "2. Resuelva el problema utilizando la función `linprog`. ¿Cómo debe ser la distribución de compras? ¿Cuánto dinero se necesita para satisfacer la demanda? (10 puntos)"
   ]
  },
  {
   "cell_type": "code",
   "execution_count": 12,
   "id": "4db3468a",
   "metadata": {},
   "outputs": [
    {
     "data": {
      "text/plain": [
       "           con: array([], dtype=float64)\n",
       " crossover_nit: 0\n",
       "         eqlin:  marginals: array([], dtype=float64)\n",
       "  residual: array([], dtype=float64)\n",
       "           fun: 22940.0\n",
       "       ineqlin:  marginals: array([-0.2 , -0.1 , -0.  , -0.7 , -0.6 , -0.52])\n",
       "  residual: array([   0.,    0., 6000.,    0.,    0.,    0.])\n",
       "         lower:  marginals: array([0.  , 0.3 , 0.  , 0.  , 0.  , 0.12, 0.  , 0.  , 0.28])\n",
       "  residual: array([ 9000.,     0., 12000.,     0., 16000.,     0.,  6000.,  4000.,\n",
       "           0.])\n",
       "       message: 'Optimization terminated successfully. (HiGHS Status 7: Optimal)'\n",
       "           nit: 6\n",
       "         slack: array([   0.,    0., 6000.,    0.,    0.,    0.])\n",
       "        status: 0\n",
       "       success: True\n",
       "         upper:  marginals: array([0., 0., 0., 0., 0., 0., 0., 0., 0.])\n",
       "  residual: array([inf, inf, inf, inf, inf, inf, inf, inf, inf])\n",
       "             x: array([ 9000.,     0., 12000.,     0., 16000.,     0.,  6000.,  4000.,\n",
       "           0.])"
      ]
     },
     "execution_count": 12,
     "metadata": {},
     "output_type": "execute_result"
    }
   ],
   "source": [
    "import scipy.optimize as opt\n",
    "import numpy as np\n",
    "\n",
    "c = np.array([0.5,\n",
    "              0.7,\n",
    "              0.32,\n",
    "              0.6,\n",
    "              0.5,\n",
    "              0.54,\n",
    "              0.7,\n",
    "              0.6,\n",
    "              0.8\n",
    "              ])\n",
    "\n",
    "\n",
    "Aub = np.array([[1, 1, 1, 0, 0, 0, 0, 0, 0],\n",
    "                [0, 0, 0, 1, 1, 1, 0, 0, 0],\n",
    "                [0, 0, 0, 0, 0, 0, 1, 1, 1],\n",
    "                [-1, 0, 0, -1, 0, 0, -1, 0, 0],\n",
    "                [0, -1, 0, 0, -1, 0, 0, -1, 0],\n",
    "                [0, 0, -1, 0, 0, -1, 0, 0, -1]\n",
    "              ])\n",
    "\n",
    "bub = np.array([21000,\n",
    "                16000,\n",
    "                16000,\n",
    "                -15000,\n",
    "                -20000,\n",
    "                -12000\n",
    "               ])\n",
    "\n",
    "\n",
    "\n",
    "opt.linprog(c, Aub, bub)"
   ]
  },
  {
   "cell_type": "markdown",
   "id": "a7ee2f2f",
   "metadata": {},
   "source": [
    "**Análisis de resultados** \n",
    "\n",
    "El costo mínimo es de \\$22,940\n",
    "\n",
    "La cantidad que se compra del *Proveedor 1* de:\n",
    "\n",
    "* **Componente 1** es de 9000 unidades\n",
    "* **Componente 2** es de 0 unidades\n",
    "* **Componente 3** es de 12000 unidades\n",
    "\n",
    "La cantidad que se compra del *Proveedor 2*  de:\n",
    "\n",
    "* **Componente 1** es de 0 unidades\n",
    "* **Componente 2** es de 16000 unidades\n",
    "* **Componente 3** es de 0 unidades\n",
    "\n",
    "\n",
    "La cantidad que se compra del *Proveedor 3* de:\n",
    "\n",
    "* **Componente 1** es de 0 unidades\n",
    "* **Componente 2** es de 6000 unidades\n",
    "* **Componente 3** es de 4000 unidades"
   ]
  },
  {
   "cell_type": "markdown",
   "id": "42b4e033",
   "metadata": {},
   "source": [
    "### Corrección\n",
    "* ¿Cuál fue el error? Que las restricciones de mayor que las tomé como igualdades \n",
    "* ¿Qué se corrigió? En lugar de meter mis datos en Aeq y beq los puse todos en Aub/bub\n",
    "* ¿Cómo se puede evitar? Prestando atención al planteamiento "
   ]
  },
  {
   "cell_type": "markdown",
   "id": "5663a48b",
   "metadata": {},
   "source": [
    "# Tercer punto. Ajuste de curvas (33 puntos)\n",
    "\n",
    "Utiliza el archivo adjunto en Canvas en el apartado que corresponde al examen."
   ]
  },
  {
   "cell_type": "markdown",
   "id": "c673e9e6",
   "metadata": {},
   "source": [
    "Escribe tu número de expediente: 740694"
   ]
  },
  {
   "cell_type": "markdown",
   "id": "da3c6c2e",
   "metadata": {},
   "source": [
    "Lee el archivo y extrae la siguiente información:\n",
    "- $x$ es la primer columna del archivo\n",
    "- $y$ es la columna correspondiente a los últimos dos dígitos de tu número de expediente + 1. E.g. mi expediente es $693871$; por lo tanto, debo usar la columna $72$."
   ]
  },
  {
   "cell_type": "code",
   "execution_count": 74,
   "id": "46fbbaf5",
   "metadata": {},
   "outputs": [],
   "source": [
    "import numpy as np\n",
    "import pandas as pd\n",
    "import matplotlib.pyplot as plt"
   ]
  },
  {
   "cell_type": "code",
   "execution_count": 86,
   "id": "feb405d3",
   "metadata": {},
   "outputs": [],
   "source": [
    "import pandas as pd\n",
    "data = pd.read_excel(\"E01-RegresionLineal.xlsx\")\n",
    "\n",
    "x = data[0].values \n",
    "y = data[95].values\n",
    "\n",
    "m = len(y)\n",
    "ones = np.ones([m, 1])\n",
    "x1 = np.reshape(x, [m, 1])\n",
    "x2 = np.reshape(x**2, [m, 1])\n",
    "x3 = np.reshape(x**3, [m, 1])\n",
    "x4 = np.reshape(x**4, [m, 1])\n",
    "x5 = np.reshape(x**5, [m, 1])\n",
    "\n",
    "X1 = np.hstack((ones, x1))\n",
    "X3 = np.hstack((ones, x1, x2, x3))\n",
    "X5 = np.hstack((ones, x1, x2, x3, x4, x5))\n",
    "\n",
    "beta_inicial1 = np.random.rand(2)\n",
    "beta_inicial2 = np.random.rand(4)\n",
    "beta_inicial3 = np.random.rand(6)\n",
    "\n",
    "y_vector = np.reshape(y, [m, 1])\n",
    "\n",
    "def foo(beta, X, y) :\n",
    "    m, n = X.shape\n",
    "    beta = np.reshape(beta, [n, 1])\n",
    "    prediccion = X @ beta\n",
    "    error = prediccion - y\n",
    "    return (error.T @ error)[0][0]"
   ]
  },
  {
   "cell_type": "code",
   "execution_count": 94,
   "id": "fa67533a",
   "metadata": {},
   "outputs": [
    {
     "data": {
      "text/plain": [
       "      fun: 964.2161619724111\n",
       " hess_inv: array([[ 1.75214248e-02, -1.51804718e-01,  4.01739571e-01,\n",
       "        -4.49285618e-01,  2.23580199e-01, -4.08303491e-02],\n",
       "       [-1.51804718e-01,  1.76360635e+00, -5.26510798e+00,\n",
       "         6.29192493e+00, -3.26568080e+00,  6.14009810e-01],\n",
       "       [ 4.01739571e-01, -5.26510798e+00,  1.67963448e+01,\n",
       "        -2.09365464e+01,  1.11890424e+01, -2.14944127e+00],\n",
       "       [-4.49285618e-01,  6.29192493e+00, -2.09365464e+01,\n",
       "         2.68719742e+01, -1.46731921e+01,  2.86557668e+00],\n",
       "       [ 2.23580199e-01, -3.26568080e+00,  1.11890424e+01,\n",
       "        -1.46731921e+01,  8.14523115e+00, -1.61155959e+00],\n",
       "       [-4.08303491e-02,  6.14009810e-01, -2.14944127e+00,\n",
       "         2.86557668e+00, -1.61155959e+00,  3.22233200e-01]])\n",
       "      jac: array([ 0.00000000e+00, -7.62939453e-06,  0.00000000e+00,  0.00000000e+00,\n",
       "        7.62939453e-06,  0.00000000e+00])\n",
       "  message: 'Optimization terminated successfully.'\n",
       "     nfev: 126\n",
       "      nit: 14\n",
       "     njev: 18\n",
       "   status: 0\n",
       "  success: True\n",
       "        x: array([ 4.23513326,  3.23360735,  4.49007313, -4.77117081,  1.84658576,\n",
       "       -0.18958577])"
      ]
     },
     "execution_count": 94,
     "metadata": {},
     "output_type": "execute_result"
    }
   ],
   "source": [
    "sol1 = opt.minimize(foo, beta_inicial1, args=(X1, y_vector))\n",
    "sol2 = opt.minimize(foo, beta_inicial2, args=(X3, y_vector))\n",
    "sol3 = opt.minimize(foo, beta_inicial3, args=(X5, y_vector))\n",
    "sol3"
   ]
  },
  {
   "cell_type": "code",
   "execution_count": 89,
   "id": "503a75a4",
   "metadata": {},
   "outputs": [
    {
     "data": {
      "text/plain": [
       "[<matplotlib.lines.Line2D at 0x1ee92c48ee0>]"
      ]
     },
     "execution_count": 89,
     "metadata": {},
     "output_type": "execute_result"
    },
    {
     "data": {
      "image/png": "[encoded data removed]",
      "text/plain": [
       "<Figure size 640x480 with 1 Axes>"
      ]
     },
     "metadata": {},
     "output_type": "display_data"
    }
   ],
   "source": [
    "import matplotlib.pyplot as plt\n",
    "%matplotlib inline\n",
    "plt.figure()\n",
    "plt.scatter(x, y)\n",
    "plt.plot(x, X1 @ sol1.x)\n",
    "plt.plot(x, X3 @ sol2.x, \"r\")\n",
    "plt.plot(x, X5 @ sol3.x, \"g\")\n"
   ]
  },
  {
   "cell_type": "markdown",
   "id": "8714fbd7",
   "metadata": {},
   "source": [
    "1. Ajuste los datos con polinomios de grados 1, 3, y 5. Muestre los errores de forma gráfica. ¿Qué polinomio se ajusta mejor?"
   ]
  },
  {
   "cell_type": "code",
   "execution_count": 90,
   "id": "027ba631",
   "metadata": {},
   "outputs": [
    {
     "data": {
      "text/plain": [
       "<BarContainer object of 3 artists>"
      ]
     },
     "execution_count": 90,
     "metadata": {},
     "output_type": "execute_result"
    },
    {
     "data": {
      "image/png": "[encoded data removed]",
      "text/plain": [
       "<Figure size 640x480 with 1 Axes>"
      ]
     },
     "metadata": {},
     "output_type": "display_data"
    }
   ],
   "source": [
    "plt.figure()\n",
    "plt.bar([1, 2, 3], [sol1.fun, sol2.fun, sol3.fun])"
   ]
  },
  {
   "cell_type": "markdown",
   "id": "d3df930b",
   "metadata": {},
   "source": [
    "### **Respuesta**\n",
    "Se ajusta mejor el polinomio de grado 5"
   ]
  },
  {
   "cell_type": "markdown",
   "id": "59862478",
   "metadata": {},
   "source": [
    "2. Muestre en un gráfico los datos y el polinomio que mejor se ajuste."
   ]
  },
  {
   "cell_type": "code",
   "execution_count": 95,
   "id": "27387213",
   "metadata": {},
   "outputs": [
    {
     "data": {
      "text/plain": [
       "[<matplotlib.lines.Line2D at 0x1ee92d09940>]"
      ]
     },
     "execution_count": 95,
     "metadata": {},
     "output_type": "execute_result"
    },
    {
     "data": {
      "image/png": "[encoded data removed]",
      "text/plain": [
       "<Figure size 640x480 with 1 Axes>"
      ]
     },
     "metadata": {},
     "output_type": "display_data"
    }
   ],
   "source": [
    "import matplotlib.pyplot as plt\n",
    "%matplotlib inline\n",
    "plt.figure()\n",
    "plt.scatter(x, y)\n",
    "plt.plot(x, X5 @ sol3.x, \"g\")\n"
   ]
  },
  {
   "cell_type": "markdown",
   "id": "238f342a",
   "metadata": {},
   "source": [
    "3. Use el modelo para averiguar el valor de $y$ cuando:\n",
    "- $x=0.001$\n",
    "- $x=-0.1$\n",
    "- $x=2.1$"
   ]
  },
  {
   "cell_type": "code",
   "execution_count": 96,
   "id": "82706e4e",
   "metadata": {},
   "outputs": [
    {
     "data": {
      "text/plain": [
       "      fun: 964.2161619724111\n",
       " hess_inv: array([[ 1.75214248e-02, -1.51804718e-01,  4.01739571e-01,\n",
       "        -4.49285618e-01,  2.23580199e-01, -4.08303491e-02],\n",
       "       [-1.51804718e-01,  1.76360635e+00, -5.26510798e+00,\n",
       "         6.29192493e+00, -3.26568080e+00,  6.14009810e-01],\n",
       "       [ 4.01739571e-01, -5.26510798e+00,  1.67963448e+01,\n",
       "        -2.09365464e+01,  1.11890424e+01, -2.14944127e+00],\n",
       "       [-4.49285618e-01,  6.29192493e+00, -2.09365464e+01,\n",
       "         2.68719742e+01, -1.46731921e+01,  2.86557668e+00],\n",
       "       [ 2.23580199e-01, -3.26568080e+00,  1.11890424e+01,\n",
       "        -1.46731921e+01,  8.14523115e+00, -1.61155959e+00],\n",
       "       [-4.08303491e-02,  6.14009810e-01, -2.14944127e+00,\n",
       "         2.86557668e+00, -1.61155959e+00,  3.22233200e-01]])\n",
       "      jac: array([ 0.00000000e+00, -7.62939453e-06,  0.00000000e+00,  0.00000000e+00,\n",
       "        7.62939453e-06,  0.00000000e+00])\n",
       "  message: 'Optimization terminated successfully.'\n",
       "     nfev: 126\n",
       "      nit: 14\n",
       "     njev: 18\n",
       "   status: 0\n",
       "  success: True\n",
       "        x: array([ 4.23513326,  3.23360735,  4.49007313, -4.77117081,  1.84658576,\n",
       "       -0.18958577])"
      ]
     },
     "execution_count": 96,
     "metadata": {},
     "output_type": "execute_result"
    }
   ],
   "source": [
    "sol3"
   ]
  },
  {
   "cell_type": "markdown",
   "id": "80a990e3",
   "metadata": {},
   "source": [
    "**R:** $x=0.001$"
   ]
  },
  {
   "cell_type": "code",
   "execution_count": 136,
   "id": "b5d4cfe7",
   "metadata": {},
   "outputs": [
    {
     "data": {
      "text/plain": [
       "4.238371352653806"
      ]
     },
     "execution_count": 136,
     "metadata": {},
     "output_type": "execute_result"
    }
   ],
   "source": [
    "def f(x) :\n",
    "    return 4.23513326 + 3.23360735*x + 4.49007313*x**2 - 4.77117081*x**3 + 1.84658576*x**4 -0.18958577*x**5\n",
    "\n",
    "f(0.001)"
   ]
  },
  {
   "cell_type": "markdown",
   "id": "a025334c",
   "metadata": {},
   "source": [
    "**R:** $x=-0.1$"
   ]
  },
  {
   "cell_type": "code",
   "execution_count": 137,
   "id": "51beb7c1",
   "metadata": {},
   "outputs": [
    {
     "data": {
      "text/plain": [
       "3.961630981543699"
      ]
     },
     "execution_count": 137,
     "metadata": {},
     "output_type": "execute_result"
    }
   ],
   "source": [
    "def f(x) :\n",
    "    return 4.23513326 + 3.23360735*x + 4.49007313*x**2 - 4.77117081*x**3 + 1.84658576*x**4 -0.18958577*x**5\n",
    "\n",
    "f(-0.1)"
   ]
  },
  {
   "cell_type": "markdown",
   "id": "e1888f07",
   "metadata": {},
   "source": [
    "**R:** $x=2.1$"
   ]
  },
  {
   "cell_type": "code",
   "execution_count": 138,
   "id": "f2b42389",
   "metadata": {},
   "outputs": [
    {
     "data": {
      "text/plain": [
       "14.810828517518297"
      ]
     },
     "execution_count": 138,
     "metadata": {},
     "output_type": "execute_result"
    }
   ],
   "source": [
    "def f(x) :\n",
    "    return 4.23513326 + 3.23360735*x + 4.49007313*x**2 - 4.77117081*x**3 + 1.84658576*x**4 -0.18958577*x**5\n",
    "\n",
    "f(2.1)"
   ]
  },
  {
   "cell_type": "markdown",
   "id": "4af77457",
   "metadata": {},
   "source": [
    "4. ¿Qué diferencias encuentra en cuanto a la interpolación y la extrapolación?"
   ]
  },
  {
   "cell_type": "markdown",
   "id": "2e5066df",
   "metadata": {},
   "source": [
    "**Respuesta:** \n",
    "+ Que con la interpolación estimamos los valores que están dentro de un conjunto de datos, mientras que con la extrapolación estimamos los que están fuera de este conjunto.\n",
    "+ La extrapolación puede llegar a ser más precisa en la predicción de valores, pues observo que aplicando el método de interpolación mi error sigue siendo muy alto."
   ]
  },
  {
   "cell_type": "markdown",
   "id": "3ff8002f",
   "metadata": {},
   "source": [
    "5. (Punto extra) Agregue un termino $\\beta_5 cos(10x)$ a su modelo y grafique los resultados. ¿Mejoró el resultado?"
   ]
  },
  {
   "cell_type": "code",
   "execution_count": null,
   "id": "28b1f9ef",
   "metadata": {},
   "outputs": [],
   "source": []
  },
  {
   "cell_type": "code",
   "execution_count": null,
   "id": "011525b0",
   "metadata": {},
   "outputs": [],
   "source": []
  },
  {
   "cell_type": "code",
   "execution_count": null,
   "id": "b6cc448d",
   "metadata": {},
   "outputs": [],
   "source": []
  }
 ],
 "metadata": {
  "kernelspec": {
   "display_name": "Python 3 (ipykernel)",
   "language": "python",
   "name": "python3"
  },
  "language_info": {
   "codemirror_mode": {
    "name": "ipython",
    "version": 3
   },
   "file_extension": ".py",
   "mimetype": "text/x-python",
   "name": "python",
   "nbconvert_exporter": "python",
   "pygments_lexer": "ipython3",
   "version": "3.9.12"
  }
 },
 "nbformat": 4,
 "nbformat_minor": 5
}

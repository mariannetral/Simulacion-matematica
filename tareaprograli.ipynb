{
 "cells": [
  {
   "cell_type": "markdown",
   "metadata": {},
   "source": [
    "# T02\n",
    "## Marianne Trujillo Altamirano\n",
    "### *Exp. 740694*"
   ]
  },
  {
   "cell_type": "markdown",
   "metadata": {},
   "source": [
    "# Tarea - Programación lineal"
   ]
  },
  {
   "cell_type": "markdown",
   "metadata": {},
   "source": [
    "### Diseño de la Dieta Óptima\n",
    "\n",
    "Se quiere producir comida para gatos de la manera más barata, no obstante se debe también asegurar que se cumplan los datos requeridos de analisis nutricional. Por lo que se quiere variar la cantidad de cada ingrediente para cumplir con los estandares nutricionales. Los requisitos que se tienen es que en $100$ gramos, se deben tener **por lo menos** $8$ gramos de proteína y $6$ gramos de grasa. Así mismo, no se debe tener más de $2$ gramos de fibra y $0.4$ gramos de sal.  \n",
    "\n",
    "Los datos nutricionales se pueden obtener de la siguiente tabla:\n",
    "\n",
    "Ingrediente|Proteína|Grasa|Fibra|Sal\n",
    ":----|----|----|----|----\n",
    "Pollo|  10.0%|08.0%|00.1%|00.2%\n",
    "Carne|  20.0%|10.0%|00.5%|00.5%\n",
    "Cordero|15.0%|11.0%|00.5%|00.7%\n",
    "Arroz|  00.0%|01.0%|10.0%|00.2%\n",
    "Trigo|  04.0%|01.0%|15.0%|00.8%\n",
    "Gel|    00.0%|00.0%|00.0%|00.0%\n",
    "\n",
    "Los costos de cada producto son:\n",
    "\n",
    "Ingrediente|Costo por gramo\n",
    ":----|----\n",
    "Pollo|$\\$$0.013\n",
    "Carne|$\\$$0.008\n",
    "Cordero|$\\$$0.010\n",
    "Arroz|$\\$$0.002\n",
    "Trigo|$\\$$0.005\n",
    "Gel|$\\$$0.001    \n",
    "\n",
    "Lo que se busca optimizar en este caso es la cantidad de productos que se debe utilizar en la comida de gato, minimizando el costo total. Para simplificar la notación use las siguientes variables: \n",
    "\n",
    "+ $x_1:$ Gramos de pollo  \n",
    "+ $x_2:$ Gramos de carne  \n",
    "+ $x_3:$ Gramos de cordero  \n",
    "+ $x_4:$ Gramos de arroz  \n",
    "+ $x_5:$ Gramos de trigo  \n",
    "+ $x_6:$ Gramos de gel\n",
    "\n",
    "La tarea consiste en plantear el problemade programación lineal que permita satisfacer las necesidades alimenticias del gato al tiempo que minimice el costo total y resolverlo con `linprog`."
   ]
  },
  {
   "cell_type": "markdown",
   "metadata": {},
   "source": [
    "### **1. Criterio de optimiación**\n",
    "\n",
    "Minimizar el costo total de producción"
   ]
  },
  {
   "cell_type": "markdown",
   "metadata": {},
   "source": [
    "### **2. Variables que afectan mi criterio**\n",
    "\n",
    "Cantidad de ingredientes a usar"
   ]
  },
  {
   "cell_type": "markdown",
   "metadata": {},
   "source": [
    "### **3. Función de costo**\n",
    "\n",
    "$$0.013x_1+0.008x_2+0.010x_3+0.002x_4+0.005x_5+0.001x_6$$"
   ]
  },
  {
   "cell_type": "markdown",
   "metadata": {},
   "source": [
    "### **4. Restricciones**\n",
    "\n",
    "Gramos totales\n",
    "$$x_1+x_2+x_3+x_4+x_5+x_6=100$$\n",
    "Proteína\n",
    "$$0.1x_1+0.2x_2+0.15x_3+0.04x_5 \\geq 8$$\n",
    "Grasa\n",
    "$$0.08x_1+0.1x_2+0.11x_3+0.01x_4+0.01x_5 \\geq 6$$\n",
    "Fibra\n",
    "$$0.001x_1+0.005x_2+0.005x_3+0.1x_4+0.15x_5 \\leq 2$$\n",
    "Sal\n",
    "$$0.002x_1+0.005x_2+0.007x_3+0.002x_4+0.008x_5 \\leq 0.4$$"
   ]
  },
  {
   "cell_type": "code",
   "execution_count": 16,
   "metadata": {},
   "outputs": [
    {
     "data": {
      "text/plain": [
       "           con: array([0.])\n",
       " crossover_nit: 0\n",
       "         eqlin:  marginals: array([0.001])\n",
       "  residual: array([0.])\n",
       "           fun: 0.52\n",
       "       ineqlin:  marginals: array([-0.  , -0.07, -0.  , -0.  ])\n",
       "  residual: array([4. , 0. , 1.7, 0.1])\n",
       "         lower:  marginals: array([0.0064, 0.    , 0.0013, 0.0003, 0.0033, 0.    ])\n",
       "  residual: array([ 0., 60.,  0.,  0.,  0., 40.])\n",
       "       message: 'Optimization terminated successfully. (HiGHS Status 7: Optimal)'\n",
       "           nit: 2\n",
       "         slack: array([4. , 0. , 1.7, 0.1])\n",
       "        status: 0\n",
       "       success: True\n",
       "         upper:  marginals: array([0., 0., 0., 0., 0., 0.])\n",
       "  residual: array([inf, inf, inf, inf, inf, inf])\n",
       "             x: array([ 0., 60.,  0.,  0.,  0., 40.])"
      ]
     },
     "execution_count": 16,
     "metadata": {},
     "output_type": "execute_result"
    }
   ],
   "source": [
    "import scipy.optimize as opt\n",
    "import numpy as np\n",
    "\n",
    "c = np.array([0.013,\n",
    "              0.008,\n",
    "              0.010,\n",
    "              0.002,\n",
    "              0.005,\n",
    "              0.001])\n",
    "\n",
    "Aeq = np.array ([\n",
    "               [1, 1, 1, 1, 1, 1]\n",
    "               ])\n",
    "\n",
    "beq = np.array ([100])\n",
    "\n",
    "\n",
    "Aub = np.array([\n",
    "               [-0.1, -0.2, -0.15, 0, -0.04,0],\n",
    "               [-0.08, -0.1, -0.11, -0.01, -0.01, 0],\n",
    "               [0.001, 0.005, 0.005, 0.10, 0.15, 0],\n",
    "               [0.002, 0.005, 0.007, 0.002, 0.008, 0]\n",
    "               ])\n",
    "\n",
    "bub = np.array([-8,\n",
    "                -6,\n",
    "                 2,\n",
    "                 0.4])\n",
    "\n",
    "\n",
    "\n",
    "opt.linprog(c, Aub, bub, Aeq, beq)"
   ]
  },
  {
   "cell_type": "markdown",
   "metadata": {},
   "source": [
    "**Análisis de resultados**\n",
    "La cantidad de cada ingrediente que se debe usar para minimizar el costo total es de:\n",
    "+ $x_1:$ Gramos de pollo (0)  \n",
    "+ $x_2:$ Gramos de carne (60 gr) \n",
    "+ $x_3:$ Gramos de cordero (0)\n",
    "+ $x_4:$ Gramos de arroz  (0)\n",
    "+ $x_5:$ Gramos de trigo  (0)\n",
    "+ $x_6:$ Gramos de gel (40)"
   ]
  },
  {
   "cell_type": "markdown",
   "metadata": {},
   "source": [
    "### Problema de distribución de energía eléctrica\n",
    "\n",
    "La Comisión Federal de Electricidad **(CFE)** dispone de cuatro plantas de generación para satisfacer la demanda diaria eléctrica en cuatro ciudades, Guadalajara, León y Morelia. Las plantas $1$, $2$ y $3$ pueden satisfacer $80$, $40$ y $60$ millones de KW al día respectivamente. Las necesidades de las ciudades de Guadalajara, León y Morelia son de $70$, $40$ y $70$ millones de Kw al día respectivamente. \n",
    "\n",
    "\n",
    "Los costos asociados al envío de suministro energético por cada millón de Kw entre cada planta y cada ciudad son los registrados en la siguiente tabla. \n",
    "\n",
    "-|Guadalajara|León|Morelia\n",
    ":----|----|----|----\n",
    "Planta 1|5|2|7\n",
    "Planta 2|3|6|6\n",
    "Planta 3|6|1|2\n",
    "\n",
    "Y por último, las restricciones del problema, van a estar dadas por las capacidades de oferta y demanda de cada planta (en millones de KW) y cada ciudad.\n",
    "\n",
    "Para simplificar la notación use las siguientes variables:\n",
    "\n",
    "+ $x_1$: Kw (en millones) distribuidos de la Planta 1 a Guadalajara\n",
    "+ $x_2$: Kw (en millones) distribuidos de la Planta 1 a León\n",
    "+ $x_3$: Kw (en millones) distribuidos de la Planta 1 a Morelia\n",
    "+ $x_4$: Kw (en millones) distribuidos de la Planta 2 a Guadalajara\n",
    "+ $x_5$: Kw (en millones) distribuidos de la Planta 2 a León\n",
    "+ $x_6$: Kw (en millones) distribuidos de la Planta 2 a Morelia\n",
    "+ $x_7$: Kw (en millones) distribuidos de la Planta 3 a Guadalajara\n",
    "+ $x_8$: Kw (en millones) distribuidos de la Planta 3 a León\n",
    "+ $x_9$: Kw (en millones) distribuidos de la Planta 3 a Morelia\n",
    "\n",
    "La tarea consiste en plantear el problema de programación lineal que permita satisfacer las necesidades de todas las ciudades al tiempo que minimice los costos asociados a la distribución y resolverlo con `linprog`."
   ]
  },
  {
   "cell_type": "markdown",
   "metadata": {},
   "source": [
    "### **1. Criterio de optimiación**\n",
    "\n",
    "Minimizar los costos asociados a la producción"
   ]
  },
  {
   "cell_type": "markdown",
   "metadata": {},
   "source": [
    "### **2. Variables que afectan mi criterio**\n",
    "\n",
    "Capacidad de oferta y demanda de cada planta."
   ]
  },
  {
   "cell_type": "markdown",
   "metadata": {},
   "source": [
    "### **3. Función de costo**\n",
    "\n",
    "\n",
    "$$\\min_{x_1,\\dots,x_6}2x_{AL} + 7x_{AM} + 5x_{AG} + 6x_{BL} + 6x_{BM} + 3x_{BG} + x_{CL} + 2x_{CM} + 6x_{CG}$$"
   ]
  },
  {
   "cell_type": "markdown",
   "metadata": {},
   "source": [
    "### **4. Restricciones**\n",
    "\n",
    "Restricciones de la producción:\n",
    "\n",
    "- $x_{AL} + x_{AM} + x_{AG} \\leq 80$\n",
    "- $x_{BL} + x_{BM} + x_{BG} \\leq 40$\n",
    "- $x_{CL} + x_{CM} + x_{CG} \\leq 60$\n",
    "\n",
    "\n",
    "Restricciones del consumo:\n",
    "\n",
    "- $x_{AL} + x_{BL} + x_{CL} \\geq 40$\n",
    "- $x_{AM} + x_{BM} + x_{CM} \\geq 70$\n",
    "- $x_{AG} + x_{BG} + x_{CG} \\geq 70$\n",
    "\n",
    "\n",
    "\n",
    "\n"
   ]
  },
  {
   "cell_type": "code",
   "execution_count": 8,
   "metadata": {},
   "outputs": [
    {
     "data": {
      "text/plain": [
       "           con: array([0., 0., 0.])\n",
       " crossover_nit: 0\n",
       "         eqlin:  marginals: array([2., 7., 5.])\n",
       "  residual: array([0., 0., 0.])\n",
       "           fun: 540.0\n",
       "       ineqlin:  marginals: array([-0., -2., -5.])\n",
       "  residual: array([0., 0., 0.])\n",
       "         lower:  marginals: array([0., 0., 0., 6., 1., 0., 4., 0., 6.])\n",
       "  residual: array([40., 10., 30.,  0.,  0., 40.,  0., 60.,  0.])\n",
       "       message: 'Optimization terminated successfully. (HiGHS Status 7: Optimal)'\n",
       "           nit: 6\n",
       "         slack: array([0., 0., 0.])\n",
       "        status: 0\n",
       "       success: True\n",
       "         upper:  marginals: array([0., 0., 0., 0., 0., 0., 0., 0., 0.])\n",
       "  residual: array([inf, inf, inf, inf, inf, inf, inf, inf, inf])\n",
       "             x: array([40., 10., 30.,  0.,  0., 40.,  0., 60.,  0.])"
      ]
     },
     "execution_count": 8,
     "metadata": {},
     "output_type": "execute_result"
    }
   ],
   "source": [
    "import scipy.optimize as opt\n",
    "import numpy as np\n",
    "\n",
    "c = np.array([2,\n",
    "              7,\n",
    "              5,\n",
    "              6,\n",
    "              6,\n",
    "              3,\n",
    "              1,\n",
    "              2,\n",
    "              6\n",
    "              ])\n",
    "\n",
    "\n",
    "Aub = np.array([[1, 1, 1, 0, 0, 0, 0, 0, 0],\n",
    "                [0, 0, 0, 1, 1, 1, 0, 0, 0],\n",
    "                [0, 0, 0, 0, 0, 0, 1, 1, 1],\n",
    "              ])\n",
    "\n",
    "bub = np.array([80,\n",
    "                40,\n",
    "                60\n",
    "               ])\n",
    "\n",
    "Aeq = np.array([[1, 0, 0, 1, 0, 0, 1, 0, 0],\n",
    "                [0, 1, 0, 0, 1, 0, 0, 1, 0],\n",
    "                [0, 0, 1, 0, 0, 1, 0, 0, 1]\n",
    "               ])\n",
    "\n",
    "beq = np.array([40,\n",
    "                70,\n",
    "                70\n",
    "                ])\n",
    "\n",
    "\n",
    "opt.linprog(c, Aub, bub, Aeq, beq)"
   ]
  },
  {
   "cell_type": "markdown",
   "metadata": {},
   "source": [
    "**Análisis de resultados**\n",
    "El costo mínimo es de \\$540.\n",
    "\n",
    "La cantidad que se transporta de la planta **A** a:  \n",
    "- **León** es de 40 unidades\n",
    "- **Guadalajara** es de 10 unidades\n",
    "- **Morelia** es de 30 unidades\n",
    "\n",
    "\n",
    "La cantidad que se transporta de la planta **B** a:  \n",
    "- **León** es de 0 unidades\n",
    "- **Guadalajara** es de 40 unidades\n",
    "- **Morelia** es de 0 unidades\n",
    "\n",
    "La cantidad que se transporta de la planta **C** a:  \n",
    "- **León** es de 0 unidades\n",
    "- **Guadalajara** es de 0 unidades\n",
    "- **Morelia** es de 60 unidades"
   ]
  }
 ],
 "metadata": {
  "kernelspec": {
   "display_name": "Python 3 (ipykernel)",
   "language": "python",
   "name": "python3"
  },
  "language_info": {
   "codemirror_mode": {
    "name": "ipython",
    "version": 3
   },
   "file_extension": ".py",
   "mimetype": "text/x-python",
   "name": "python",
   "nbconvert_exporter": "python",
   "pygments_lexer": "ipython3",
   "version": "3.9.13"
  }
 },
 "nbformat": 4,
 "nbformat_minor": 2
}
